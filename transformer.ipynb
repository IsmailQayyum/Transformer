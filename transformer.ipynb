{
 "cells": [
  {
   "cell_type": "code",
   "execution_count": 17,
   "metadata": {},
   "outputs": [],
   "source": [
    "\n",
    "import torch "
   ]
  },
  {
   "cell_type": "markdown",
   "metadata": {},
   "source": [
    "Example sentence: `I love you`"
   ]
  },
  {
   "cell_type": "code",
   "execution_count": 18,
   "metadata": {},
   "outputs": [
    {
     "data": {
      "text/plain": [
       "(tensor([0, 1, 2]), torch.Size([3]))"
      ]
     },
     "execution_count": 18,
     "metadata": {},
     "output_type": "execute_result"
    }
   ],
   "source": [
    "input = torch.tensor([0,1,2])\n",
    "input,input.shape"
   ]
  },
  {
   "cell_type": "code",
   "execution_count": 19,
   "metadata": {},
   "outputs": [
    {
     "data": {
      "text/plain": [
       "(tensor([[ 0.9082, -0.4524, -0.3170, -0.4982],\n",
       "         [ 1.1384,  0.2863,  1.5047,  0.7825],\n",
       "         [ 0.4415, -1.3736, -0.4298,  0.0815]], grad_fn=<EmbeddingBackward0>),\n",
       " torch.Size([3, 4]))"
      ]
     },
     "execution_count": 19,
     "metadata": {},
     "output_type": "execute_result"
    }
   ],
   "source": [
    "from torch.nn import Embedding\n",
    "\n",
    "embedding = Embedding(3,4)\n",
    "embedded_sentence =embedding(input)\n",
    "embedded_sentence,embedded_sentence.shape\n"
   ]
  },
  {
   "cell_type": "code",
   "execution_count": 20,
   "metadata": {},
   "outputs": [],
   "source": [
    "\n",
    "q_vector=[]\n",
    "k_vector=[]\n",
    "v_vector=[]\n",
    "q_vector.clear()\n",
    "k_vector.clear()\n",
    "v_vector.clear()\n",
    "\n",
    "Wq = torch.rand(4,3)\n",
    "Wk = torch.rand(4,3)\n",
    "Wv = torch.rand(4,3)\n",
    "\n",
    "\n",
    "for word in embedded_sentence:\n",
    "    q_vector.append(torch.matmul(word.unsqueeze(0),Wq))\n",
    "    k_vector.append(torch.matmul(word.unsqueeze(0),Wk))\n",
    "    v_vector.append(torch.matmul(word.unsqueeze(0),Wv))\n"
   ]
  },
  {
   "cell_type": "code",
   "execution_count": 21,
   "metadata": {},
   "outputs": [
    {
     "data": {
      "text/plain": [
       "[tensor([[ 0.1800, -0.1395,  0.1841]], grad_fn=<MmBackward0>),\n",
       " tensor([[2.0398, 2.3036, 2.9367]], grad_fn=<MmBackward0>),\n",
       " tensor([[-0.4120, -0.1387, -0.0024]], grad_fn=<MmBackward0>)]"
      ]
     },
     "execution_count": 21,
     "metadata": {},
     "output_type": "execute_result"
    }
   ],
   "source": [
    "q_vector"
   ]
  },
  {
   "cell_type": "code",
   "execution_count": 22,
   "metadata": {},
   "outputs": [
    {
     "data": {
      "text/plain": [
       "([tensor([[-0.6261, -0.4828, -0.4296]], grad_fn=<MmBackward0>),\n",
       "  tensor([[2.3565, 1.1809, 2.9514]], grad_fn=<MmBackward0>),\n",
       "  tensor([[-1.1541, -0.9341, -1.1287]], grad_fn=<MmBackward0>)],\n",
       " torch.Size([1, 3]))"
      ]
     },
     "execution_count": 22,
     "metadata": {},
     "output_type": "execute_result"
    }
   ],
   "source": [
    "k_vector , k_vector[0].shape"
   ]
  },
  {
   "cell_type": "code",
   "execution_count": 23,
   "metadata": {},
   "outputs": [
    {
     "data": {
      "text/plain": [
       "[tensor([[-3.3073e-01, -2.2443e-04, -5.9802e-01]], grad_fn=<MmBackward0>),\n",
       " tensor([[1.1377, 1.4576, 2.3103]], grad_fn=<MmBackward0>),\n",
       " tensor([[-0.9519, -0.5821, -0.7040]], grad_fn=<MmBackward0>)]"
      ]
     },
     "execution_count": 23,
     "metadata": {},
     "output_type": "execute_result"
    }
   ],
   "source": [
    "v_vector"
   ]
  },
  {
   "cell_type": "code",
   "execution_count": 29,
   "metadata": {},
   "outputs": [
    {
     "data": {
      "text/plain": [
       "[tensor([[-0.6261, -0.4828, -0.4296]], grad_fn=<MmBackward0>),\n",
       " tensor([[2.3565, 1.1809, 2.9514]], grad_fn=<MmBackward0>),\n",
       " tensor([[-1.1541, -0.9341, -1.1287]], grad_fn=<MmBackward0>)]"
      ]
     },
     "execution_count": 29,
     "metadata": {},
     "output_type": "execute_result"
    }
   ],
   "source": [
    "k_vector"
   ]
  },
  {
   "cell_type": "code",
   "execution_count": 35,
   "metadata": {},
   "outputs": [
    {
     "data": {
      "text/plain": [
       "torch.Size([1, 3])"
      ]
     },
     "execution_count": 35,
     "metadata": {},
     "output_type": "execute_result"
    }
   ],
   "source": [
    "q_vector[0].shape"
   ]
  },
  {
   "cell_type": "code",
   "execution_count": 38,
   "metadata": {},
   "outputs": [
    {
     "data": {
      "text/plain": [
       "-0.1244596391916275"
      ]
     },
     "execution_count": 38,
     "metadata": {},
     "output_type": "execute_result"
    }
   ],
   "source": [
    "torch.dot(q_vector[0].squeeze(0),k_vector[0].squeeze(0)).item()"
   ]
  },
  {
   "cell_type": "code",
   "execution_count": 33,
   "metadata": {},
   "outputs": [
    {
     "name": "stdout",
     "output_type": "stream",
     "text": [
      "tensor([[-0.6261, -0.4828, -0.4296]], grad_fn=<MmBackward0>)\n",
      "tensor([[2.3565, 1.1809, 2.9514]], grad_fn=<MmBackward0>)\n",
      "tensor([[-1.1541, -0.9341, -1.1287]], grad_fn=<MmBackward0>)\n",
      "tensor([[-0.6261, -0.4828, -0.4296]], grad_fn=<MmBackward0>)\n",
      "tensor([[2.3565, 1.1809, 2.9514]], grad_fn=<MmBackward0>)\n",
      "tensor([[-1.1541, -0.9341, -1.1287]], grad_fn=<MmBackward0>)\n",
      "tensor([[-0.6261, -0.4828, -0.4296]], grad_fn=<MmBackward0>)\n",
      "tensor([[2.3565, 1.1809, 2.9514]], grad_fn=<MmBackward0>)\n",
      "tensor([[-1.1541, -0.9341, -1.1287]], grad_fn=<MmBackward0>)\n"
     ]
    }
   ],
   "source": [
    "def calculate_attention(q_vector,k_vector):\n",
    "    for q in q_vector:\n",
    "        for k in k_vector:\n",
    "            print(k)\n",
    "\n",
    "calculate_attention(q_vector,k_vector)\n"
   ]
  },
  {
   "cell_type": "code",
   "execution_count": null,
   "metadata": {},
   "outputs": [],
   "source": []
  }
 ],
 "metadata": {
  "kernelspec": {
   "display_name": "Python 3",
   "language": "python",
   "name": "python3"
  },
  "language_info": {
   "codemirror_mode": {
    "name": "ipython",
    "version": 3
   },
   "file_extension": ".py",
   "mimetype": "text/x-python",
   "name": "python",
   "nbconvert_exporter": "python",
   "pygments_lexer": "ipython3",
   "version": "3.10.11"
  }
 },
 "nbformat": 4,
 "nbformat_minor": 2
}
